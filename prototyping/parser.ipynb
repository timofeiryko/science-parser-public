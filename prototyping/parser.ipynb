{
 "cells": [
  {
   "cell_type": "code",
   "execution_count": 1,
   "metadata": {},
   "outputs": [],
   "source": [
    "from Bio import Entrez\n",
    "\n",
    "from pprint import pprint\n",
    "\n",
    "# All configs variables are strings for now\n",
    "import configs\n",
    "\n",
    "Entrez.email = configs.ENTREZ_EMAIL"
   ]
  },
  {
   "cell_type": "code",
   "execution_count": 2,
   "metadata": {},
   "outputs": [],
   "source": [
    "def search(query: str):\n",
    "    handle = Entrez.esearch(db='pubmed', \n",
    "                            sort='pub+date', \n",
    "                            retmax='10',\n",
    "                            retmode='xml', \n",
    "                            term=query)\n",
    "    results = Entrez.read(handle)\n",
    "    return results"
   ]
  },
  {
   "cell_type": "code",
   "execution_count": 3,
   "metadata": {},
   "outputs": [],
   "source": [
    "def fetch_details(id_list):\n",
    "    ids = ','.join(id_list)\n",
    "    handle = Entrez.efetch(db='pubmed',\n",
    "                           retmode='xml',\n",
    "                           id=ids)\n",
    "    details = Entrez.read(handle)\n",
    "    return details"
   ]
  },
  {
   "cell_type": "code",
   "execution_count": 4,
   "metadata": {},
   "outputs": [],
   "source": [
    "results = search('cancer')\n",
    "id_list = results['IdList']\n",
    "papers_1 = fetch_details(id_list[:5])\n",
    "papers_2 = fetch_details(id_list[5:])\n",
    "papers = {**papers_1, **papers_2}"
   ]
  },
  {
   "cell_type": "code",
   "execution_count": 5,
   "metadata": {},
   "outputs": [
    {
     "data": {
      "text/plain": [
       "2"
      ]
     },
     "execution_count": 5,
     "metadata": {},
     "output_type": "execute_result"
    }
   ],
   "source": [
    "len(papers_2)"
   ]
  },
  {
   "cell_type": "code",
   "execution_count": 6,
   "metadata": {},
   "outputs": [],
   "source": [
    "def get_abstract(paper):\n",
    "    string_list = []\n",
    "    \n",
    "    for part in paper:\n",
    "        if part.__dict__['attributes']:\n",
    "            string_list.append('**' + part.__dict__['attributes']['Label'] + '**')\n",
    "        string_list.append(part.__str__())\n",
    "        string_list.append('')\n",
    "    \n",
    "    return '\\n'.join(string_list)"
   ]
  },
  {
   "cell_type": "code",
   "execution_count": 8,
   "metadata": {},
   "outputs": [
    {
     "data": {
      "text/plain": [
       "'[Application and Research Progress of Video Double-lumen Tube in Thoracic Surgery].'"
      ]
     },
     "execution_count": 8,
     "metadata": {},
     "output_type": "execute_result"
    }
   ],
   "source": [
    "papers['PubmedArticle'][1]['MedlineCitation']['Article']['ArticleTitle']"
   ]
  },
  {
   "cell_type": "code",
   "execution_count": 10,
   "metadata": {},
   "outputs": [
    {
     "name": "stdout",
     "output_type": "stream",
     "text": [
      "To describe how patients are engaged with cancer decisions in the context of multidisciplinary team (MDT) and how MDT recommendations are operationalised in the context of a shared decision.\n",
      "\n",
      "Ethnographic qualitative study.\n",
      "\n",
      "Four head and neck cancer centres in the north of England.\n",
      "\n",
      "Patients with a diagnosis of new or recurrent head and neck cancer; non-participant observation of 35 MDT meetings and 37 MDT clinics, informal interviews, and formal, semistructured interviews with 20 patients and 9 MDT staff members.\n",
      "\n",
      "Ethnographic methods including non-participant observation of MDT meetings and clinic appointments, informal interviews, field notes and formal semistructured interviews with patients and MDT members.\n",
      "\n",
      "MDT discussions often conclude with a firm recommendation for treatment. When delivered to a patient in clinic, this recommendation is often accepted by the patient, but this response may result from the disempowered position in which they find themselves. While patient behaviour may thus appear to endorse clinicians' views that a paternalistic approach is desired by patients (creating a 'cycle of paternalism'), the rigidity of the MDT treatment recommendation can act as a barrier to discussion of options and the exploration of patient values.\n",
      "\n",
      "The current model of MDT decision-making does not support shared decision-making and may actively undermine it. A model should be developed whereby the individual patient perspective has more input into MDT discussions, and where decisions are made on potential treatment options rather than providing a single recommendation for discussion with the patient. Deeper consideration should be given to how the MDT incorporates the patient perspective and/or delivers its discussion of options to the patient. In order to achieve these objectives, a new model of MDT working is required.\n"
     ]
    }
   ],
   "source": [
    "print('\\n\\n'.join(papers['PubmedArticle'][0]['MedlineCitation']['Article']['Abstract']['AbstractText']))"
   ]
  },
  {
   "cell_type": "markdown",
   "metadata": {},
   "source": [
    "# Get the best review from Google Scholar"
   ]
  },
  {
   "cell_type": "code",
   "execution_count": 16,
   "metadata": {},
   "outputs": [],
   "source": [
    "from bs4 import BeautifulSoup\n",
    "import requests"
   ]
  },
  {
   "cell_type": "code",
   "execution_count": 17,
   "metadata": {},
   "outputs": [],
   "source": [
    "headers = {\n",
    "    'User-agent':\n",
    "    \"Mozilla/5.0 (Windows NT 10.0; Win64; x64) AppleWebKit/537.36 (KHTML, like Gecko) Chrome/70.0.3538.102 Safari/537.36 Edge/18.19582\"\n",
    "}"
   ]
  },
  {
   "cell_type": "code",
   "execution_count": 25,
   "metadata": {},
   "outputs": [],
   "source": [
    "query = 'Psoriatic arthritis treatment'\n",
    "query_lst = query.split(' ')\n",
    "scholar_query = '+'.join(query_lst)"
   ]
  },
  {
   "cell_type": "code",
   "execution_count": 26,
   "metadata": {},
   "outputs": [],
   "source": [
    "from datetime import datetime\n",
    "\n",
    "year = datetime.now().year - 3"
   ]
  },
  {
   "cell_type": "code",
   "execution_count": 29,
   "metadata": {},
   "outputs": [],
   "source": [
    "html = requests.get(f'https://scholar.google.com/scholar?q={scholar_query}&hl=en&as_sdt=0%2C5&as_rr=1&as_ylo={year}&as_yhi=', headers=headers).text"
   ]
  },
  {
   "cell_type": "code",
   "execution_count": 31,
   "metadata": {},
   "outputs": [],
   "source": [
    "soup = BeautifulSoup(html, 'html.parser')"
   ]
  },
  {
   "cell_type": "code",
   "execution_count": 48,
   "metadata": {},
   "outputs": [
    {
     "data": {
      "text/plain": [
       "'https://academic.oup.com/rheumatology/article-abstract/59/Supplement_1/i37/5802853'"
      ]
     },
     "execution_count": 48,
     "metadata": {},
     "output_type": "execute_result"
    }
   ],
   "source": [
    "soup.find('div', id='gs_res_ccl_mid').find('h3').find('a')['href']"
   ]
  },
  {
   "cell_type": "code",
   "execution_count": null,
   "metadata": {},
   "outputs": [],
   "source": []
  }
 ],
 "metadata": {
  "kernelspec": {
   "display_name": "Python 3.8.13 ('ncbi-env': venv)",
   "language": "python",
   "name": "python3"
  },
  "language_info": {
   "codemirror_mode": {
    "name": "ipython",
    "version": 3
   },
   "file_extension": ".py",
   "mimetype": "text/x-python",
   "name": "python",
   "nbconvert_exporter": "python",
   "pygments_lexer": "ipython3",
   "version": "3.8.13"
  },
  "orig_nbformat": 4,
  "vscode": {
   "interpreter": {
    "hash": "3d041bf00c973c9775bc86f5c760128317a4824941600ba43f4ae828feb92abb"
   }
  }
 },
 "nbformat": 4,
 "nbformat_minor": 2
}
